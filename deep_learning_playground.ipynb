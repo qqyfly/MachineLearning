{
  "nbformat": 4,
  "nbformat_minor": 0,
  "metadata": {
    "colab": {
      "name": "deep_learning_playground.ipynb",
      "provenance": [],
      "collapsed_sections": [],
      "authorship_tag": "ABX9TyPY3/6xkZ/4z5GVwBHkTNuc",
      "include_colab_link": true
    },
    "kernelspec": {
      "name": "python3",
      "display_name": "Python 3"
    },
    "language_info": {
      "name": "python"
    }
  },
  "cells": [
    {
      "cell_type": "markdown",
      "metadata": {
        "id": "view-in-github",
        "colab_type": "text"
      },
      "source": [
        "<a href=\"https://colab.research.google.com/github/qqyfly/MachineLearning/blob/master/deep_learning_playground.ipynb\" target=\"_parent\"><img src=\"https://colab.research.google.com/assets/colab-badge.svg\" alt=\"Open In Colab\"/></a>"
      ]
    },
    {
      "cell_type": "markdown",
      "source": [
        "# Identify System "
      ],
      "metadata": {
        "id": "NrIoNpWVC160"
      }
    },
    {
      "cell_type": "code",
      "source": [
        "import sys\n",
        "\n",
        "try:\n",
        "  import distro\n",
        "except ImportError as e:\n",
        "  print(\"Please install distro package to continue\")\n",
        "  sys.exit(1)\n",
        "\n",
        "# We will have ubuntu (Colab) / arch (Home Dev Svr) / darwin (Mac)\n",
        "system_name = distro.id()"
      ],
      "metadata": {
        "id": "AXvOuNQvThKB"
      },
      "execution_count": 2,
      "outputs": []
    },
    {
      "cell_type": "markdown",
      "source": [
        "# Mount GDrive if code is running on Colab "
      ],
      "metadata": {
        "id": "On5OYyGNYG0x"
      }
    },
    {
      "cell_type": "code",
      "source": [
        "if system_name == \"ubuntu\": # Colab Env, Since I don't use ubuntu at home\n",
        "  from google.colab import drive\n",
        "  drive.mount('/content/gdrive')"
      ],
      "metadata": {
        "id": "LDAU9iLbDApw",
        "colab": {
          "base_uri": "https://localhost:8080/"
        },
        "outputId": "07b0ce2b-21d4-4b22-8961-b8adbb78a8ba"
      },
      "execution_count": 3,
      "outputs": [
        {
          "output_type": "stream",
          "name": "stdout",
          "text": [
            "Mounted at /content/gdrive\n"
          ]
        }
      ]
    },
    {
      "cell_type": "markdown",
      "source": [
        "# Copy DataSet "
      ],
      "metadata": {
        "id": "liCHVc5aCyhM"
      }
    },
    {
      "cell_type": "code",
      "source": [
        "if system_name == \"ubuntu\": # Colab Env\n",
        "  # do something\n",
        "  pass\n",
        "elif system_name == \"arch\": # Archlinux Dev Svr\n",
        "  # do something\n",
        "  pass\n",
        "elif system_name == \"darwin\": # MBP\n",
        "  # do something\n",
        "  pass\n",
        "else: \n",
        "  print(\"Unsupported System,exit!\")\n",
        "  sys.exit(1)"
      ],
      "metadata": {
        "id": "pQEgApJNDpCE"
      },
      "execution_count": 4,
      "outputs": []
    },
    {
      "cell_type": "markdown",
      "source": [
        "# Your Code Begin Here"
      ],
      "metadata": {
        "id": "qariQU0sCvwc"
      }
    },
    {
      "cell_type": "code",
      "source": [
        ""
      ],
      "metadata": {
        "id": "F2FRd6psDxqB"
      },
      "execution_count": 4,
      "outputs": []
    }
  ]
}